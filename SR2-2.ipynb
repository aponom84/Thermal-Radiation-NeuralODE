{
 "cells": [
  {
   "cell_type": "markdown",
   "id": "591e2d9f",
   "metadata": {
    "papermill": {
     "duration": 0.024543,
     "end_time": "2021-06-17T12:39:24.039027",
     "exception": false,
     "start_time": "2021-06-17T12:39:24.014484",
     "status": "completed"
    },
    "tags": []
   },
   "source": [
    "# SUN RADIATION – NEURAL ODE"
   ]
  },
  {
   "cell_type": "code",
   "execution_count": 2,
   "id": "c82096d0",
   "metadata": {
    "scrolled": true
   },
   "outputs": [
    {
     "name": "stdout",
     "output_type": "stream",
     "text": [
      "pytorch-lightning         1.9.5\r\n",
      "torch                     1.13.1\r\n",
      "torchcde                  0.2.5\r\n",
      "torchdiffeq               0.2.3\r\n",
      "torchdyn                  1.0.4\r\n",
      "torchmetrics              0.11.4\r\n",
      "torchsde                  0.2.5\r\n"
     ]
    }
   ],
   "source": [
    "import sys\n",
    "# !{sys.executable} -m pip list | grep lightning\n",
    "!{sys.executable} -m pip list | grep torch"
   ]
  },
  {
   "cell_type": "raw",
   "id": "407ec8a6",
   "metadata": {},
   "source": [
    "!{sys.executable} -m pip install torch"
   ]
  },
  {
   "cell_type": "raw",
   "id": "ea2256f3",
   "metadata": {},
   "source": [
    "!{sys.executable} -m pip uninstall -y torchdyn"
   ]
  },
  {
   "cell_type": "raw",
   "id": "f1445cbf",
   "metadata": {},
   "source": [
    "!{sys.executable} -m pip install git+https://github.com/DiffEqML/torchdyn"
   ]
  },
  {
   "cell_type": "raw",
   "id": "f950b988",
   "metadata": {},
   "source": [
    "!{sys.executable} -m pip install pytorch-lightning"
   ]
  },
  {
   "cell_type": "raw",
   "id": "58fa213f",
   "metadata": {},
   "source": [
    "!{sys.executable} -m pip install -U rich"
   ]
  },
  {
   "cell_type": "code",
   "execution_count": 6,
   "id": "0787c703",
   "metadata": {},
   "outputs": [
    {
     "name": "stdout",
     "output_type": "stream",
     "text": [
      "1.13.1+cu117\n"
     ]
    }
   ],
   "source": [
    "import torch\n",
    "print(torch.__version__)"
   ]
  },
  {
   "cell_type": "code",
   "execution_count": 11,
   "id": "b5092f51",
   "metadata": {
    "papermill": {
     "duration": 1.118505,
     "end_time": "2021-06-17T12:39:25.175944",
     "exception": false,
     "start_time": "2021-06-17T12:39:24.057439",
     "status": "completed"
    },
    "tags": []
   },
   "outputs": [
    {
     "name": "stdout",
     "output_type": "stream",
     "text": [
      "Extension horovod.torch has not been built: /home/user/conda/lib/python3.7/site-packages/horovod/torch/mpi_lib/_mpi_lib.cpython-37m-x86_64-linux-gnu.so not found\n",
      "If this is not expected, reinstall Horovod with HOROVOD_WITH_PYTORCH=1 to debug the build error.\n",
      "Warning! MPI libs are missing, but python applications are still avaiable.\n"
     ]
    }
   ],
   "source": [
    "from torchdyn.core import NeuralODE\n",
    "from torchdyn.nn import DataControl, DepthCat, Augmenter, GalLinear, Fourier\n",
    "from torchdyn.datasets import *\n",
    "from torchdyn.utils import *\n",
    "import rich\n",
    "from pytorch_lightning.callbacks import RichProgressBar\n",
    "\n",
    "\n",
    "%load_ext autoreload\n",
    "%autoreload 2"
   ]
  },
  {
   "cell_type": "code",
   "execution_count": 15,
   "id": "4a114bc7",
   "metadata": {},
   "outputs": [
    {
     "name": "stdout",
     "output_type": "stream",
     "text": [
      "(135680, 137) ccl4_vmr.npy\n",
      "(135680, 137) cfc11_vmr.npy\n",
      "(135680, 137) cfc12_vmr.npy\n",
      "(135680, 137) ch4_vmr.npy\n",
      "(135680, 137) cloud_fraction.npy\n",
      "(135680, 137) co2_vmr.npy\n",
      "(135680,) cos_solar_zenith_angle.npy\n",
      "(135680, 138) flux_dn_lw.npy\n",
      "(135680, 138) flux_dn_sw.npy\n",
      "(135680, 138) flux_up_lw.npy\n",
      "(135680, 138) flux_up_sw.npy\n",
      "(135680, 137) fractional_std.npy\n",
      "(135680, 137) hcfc22_vmr.npy\n",
      "(135680, 137) hr_lw.npy\n",
      "(135680, 137) hr_sw.npy\n",
      "(135680, 137) inv_cloud_effective_size.npy\n",
      "(135680,) lat.npy\n",
      "(135680,) lon.npy\n",
      "(135680, 2) lw_emissivity.npy\n",
      "(135680, 137) n2o_vmr.npy\n",
      "(135680, 137) o2_vmr.npy\n",
      "(135680, 137) o3_mmr.npy\n",
      "(135680, 136) overlap_param.npy\n",
      "(135680, 138) pressure_hl.npy\n",
      "(135680, 137) q.npy\n",
      "(135680, 137) q_ice.npy\n",
      "(135680, 137) q_liquid.npy\n",
      "(135680, 137) re_ice.npy\n",
      "(135680, 137) re_liquid.npy\n",
      "(135680,) skin_temperature.npy\n",
      "(135680,) solar_irradiance.npy\n",
      "(135680, 6) sw_albedo.npy\n",
      "(135680, 6) sw_albedo_direct.npy\n",
      "(135680, 138) temperature_hl.npy\n"
     ]
    }
   ],
   "source": [
    "import numpy as np\n",
    "from tqdm import tqdm\n",
    "files = !ls data\n",
    "XYdata = {}\n",
    "for file in files:\n",
    "    XYdata[file.split('.')[0]] = np.load('data/'+file) \n",
    "    print(XYdata[file.split('.')[0]].shape, file)"
   ]
  },
  {
   "cell_type": "markdown",
   "id": "8764d478",
   "metadata": {
    "papermill": {
     "duration": 0.018588,
     "end_time": "2021-06-17T12:39:25.218468",
     "exception": false,
     "start_time": "2021-06-17T12:39:25.199880",
     "status": "completed"
    },
    "tags": []
   },
   "source": [
    "**Data:** we use again the moons dataset (with some added noise) simply because all the models will be effective to solve this easy binary classification problem.\n",
    "\n"
   ]
  },
  {
   "cell_type": "code",
   "execution_count": 58,
   "id": "055b8047",
   "metadata": {},
   "outputs": [
    {
     "data": {
      "text/plain": [
       "5833"
      ]
     },
     "execution_count": 58,
     "metadata": {},
     "output_type": "execute_result"
    }
   ],
   "source": [
    "not_cloudy_ids = [i for i in range(135680) if max(XYdata['cloud_fraction'][i]) < 0.001]\n",
    "len(not_cloudy_ids)"
   ]
  },
  {
   "cell_type": "code",
   "execution_count": 64,
   "id": "b7f1c271",
   "metadata": {},
   "outputs": [
    {
     "data": {
      "text/plain": [
       "(5716, 117)"
      ]
     },
     "execution_count": 64,
     "metadata": {},
     "output_type": "execute_result"
    }
   ],
   "source": [
    "from sklearn.model_selection import train_test_split\n",
    "train_ids, test_ids = train_test_split(not_cloudy_ids, test_size=0.02, random_state=108)\n",
    "len(train_ids), len(test_ids)"
   ]
  },
  {
   "cell_type": "code",
   "execution_count": 16,
   "id": "5407910a",
   "metadata": {},
   "outputs": [],
   "source": [
    "h_max = 138"
   ]
  },
  {
   "cell_type": "code",
   "execution_count": 17,
   "id": "542a5d6b",
   "metadata": {},
   "outputs": [],
   "source": [
    "def prepareXY(i):\n",
    "    _X = []\n",
    "    _yn = []\n",
    "    for l in range(h_max-1):\n",
    "        _X.append([l,\n",
    "                   XYdata['skin_temperature'][i],\n",
    "                   XYdata['o3_mmr'][i][l],\n",
    "                   XYdata['cloud_fraction'][i][l],\n",
    "                   XYdata['re_ice'][i][l],                   \n",
    "                   XYdata['re_liquid'][i][l],\n",
    "                   XYdata['q_ice'][i][l],\n",
    "                   XYdata['q_liquid'][i][l],\n",
    "                   (XYdata['temperature_hl'][i][l] + XYdata['temperature_hl'][i][l+1]) / 2.                   \n",
    "#                    XYdata['aerosol_mmr'][i][0][l],\n",
    "#                    XYdata['aerosol_mmr'][i][1][l],\n",
    "#                    XYdata['aerosol_mmr'][i][2][l],\n",
    "#                    XYdata['aerosol_mmr'][i][3][l],\n",
    "#                    XYdata['aerosol_mmr'][i][4][l],\n",
    "#                    XYdata['aerosol_mmr'][i][5][l],\n",
    "#                    XYdata['aerosol_mmr'][i][6][l],\n",
    "#                    XYdata['aerosol_mmr'][i][7][l],\n",
    "#                    XYdata['aerosol_mmr'][i][8][l],\n",
    "#                    XYdata['aerosol_mmr'][i][9][l],\n",
    "#                    XYdata['aerosol_mmr'][i][10][l],\n",
    "#                    XYdata['aerosol_mmr'][i][11][l],               \n",
    "                   ])\n",
    "        _yn.append(( XYdata['flux_up_lw'][i][l] + XYdata['flux_up_lw'][i][l+1]) / 2. )  \n",
    "    return _X, _yn"
   ]
  },
  {
   "cell_type": "code",
   "execution_count": 65,
   "id": "9783dbd5",
   "metadata": {},
   "outputs": [],
   "source": [
    "X = []\n",
    "yn = []\n",
    "for i in train_ids:\n",
    "    _X, _yn = prepareXY(i)\n",
    "    X.extend(_X)\n",
    "    yn.extend(_yn)"
   ]
  },
  {
   "cell_type": "code",
   "execution_count": null,
   "id": "a1c18d91",
   "metadata": {},
   "outputs": [],
   "source": []
  },
  {
   "cell_type": "code",
   "execution_count": 73,
   "id": "b92deb88",
   "metadata": {},
   "outputs": [
    {
     "data": {
      "image/png": "[encoded data removed]",
      "text/plain": [
       "<Figure size 360x360 with 1 Axes>"
      ]
     },
     "metadata": {
      "needs_background": "light"
     },
     "output_type": "display_data"
    }
   ],
   "source": [
    "import matplotlib as mpl\n",
    "import matplotlib.cm as cm\n",
    "norm = mpl.colors.Normalize(vmin=min(yn), vmax=max(yn))\n",
    "cmap = cm.hot\n",
    "m = cm.ScalarMappable(norm=norm, cmap=cmap)\n",
    "fig = plt.figure(figsize=(5,5))\n",
    "ax = fig.add_subplot(111)\n",
    "for i in range(len(X)//1000):\n",
    "    ax.scatter(X[i][0], X[i][1], s=1, color=m.to_rgba(yn[i]))"
   ]
  },
  {
   "cell_type": "code",
   "execution_count": 74,
   "id": "255bf2a8",
   "metadata": {
    "papermill": {
     "duration": 4.507785,
     "end_time": "2021-06-17T12:39:32.805540",
     "exception": false,
     "start_time": "2021-06-17T12:39:28.297755",
     "status": "completed"
    },
    "tags": []
   },
   "outputs": [
    {
     "name": "stdout",
     "output_type": "stream",
     "text": [
      "cuda:0\n"
     ]
    }
   ],
   "source": [
    "import torch\n",
    "import torch.utils.data as data\n",
    "device = torch.device(\"cuda:0\" if torch.cuda.is_available() else \"cpu\")\n",
    "print(device)\n",
    "\n",
    "X_train = torch.Tensor(X).to(device)\n",
    "y_train = torch.Tensor(yn).to(device)\n",
    "train = data.TensorDataset(X_train, y_train)\n",
    "trainloader = data.DataLoader(train, batch_size=len(X), shuffle=True)"
   ]
  },
  {
   "cell_type": "code",
   "execution_count": 75,
   "id": "7722fffc",
   "metadata": {},
   "outputs": [
    {
     "data": {
      "text/plain": [
       "(torch.Size([783092, 9]), torch.Size([783092]))"
      ]
     },
     "execution_count": 75,
     "metadata": {},
     "output_type": "execute_result"
    }
   ],
   "source": [
    "X_train.shape, y_train.shape"
   ]
  },
  {
   "cell_type": "code",
   "execution_count": 76,
   "id": "106b1dc6",
   "metadata": {
    "tags": [
     "parameters"
    ]
   },
   "outputs": [],
   "source": [
    "# quick run for automated notebook validation\n",
    "dry_run = False"
   ]
  },
  {
   "cell_type": "markdown",
   "id": "4d2d3ac0",
   "metadata": {
    "papermill": {
     "duration": 0.019241,
     "end_time": "2021-06-17T12:39:32.846486",
     "exception": false,
     "start_time": "2021-06-17T12:39:32.827245",
     "status": "completed"
    },
    "tags": []
   },
   "source": [
    "**Learner**"
   ]
  },
  {
   "cell_type": "code",
   "execution_count": 77,
   "id": "44f0b2e1",
   "metadata": {
    "papermill": {
     "duration": 0.027901,
     "end_time": "2021-06-17T12:39:32.893799",
     "exception": false,
     "start_time": "2021-06-17T12:39:32.865898",
     "status": "completed"
    },
    "tags": []
   },
   "outputs": [],
   "source": [
    "import torch.nn as nn\n",
    "import pytorch_lightning as pl\n",
    "\n",
    "class Learner(pl.LightningModule):\n",
    "    def __init__(self, t_span:torch.Tensor, model:nn.Module):\n",
    "        super().__init__()\n",
    "        self.model, self.t_span = model, t_span\n",
    "    \n",
    "    def forward(self, x):\n",
    "        return self.model(x)\n",
    "    \n",
    "    def training_step(self, batch, batch_idx):\n",
    "        x, y = batch      \n",
    "        t_eval, y_hat = self.model(x, self.t_span)\n",
    "        y_hat = y_hat[-1] # select last point of solution trajectory\n",
    "\n",
    "#         print('y',y.shape, y)\n",
    "#         print('y_hat',y_hat.shape, y_hat)\n",
    "#         loss = nn.MSELoss()(y_hat, y)\n",
    "\n",
    "        loss = nn.MSELoss(reduction='none')\n",
    "        loss_result = torch.sum(loss(y_hat[:,0],y),dim=0)\n",
    "    \n",
    "        return {'loss': loss_result}   \n",
    "    \n",
    "    def configure_optimizers(self):\n",
    "        return torch.optim.Adam(self.model.parameters(), lr=0.01)\n",
    "\n",
    "    def train_dataloader(self):\n",
    "        return trainloader"
   ]
  },
  {
   "cell_type": "markdown",
   "id": "752486c4",
   "metadata": {
    "papermill": {
     "duration": 0.019388,
     "end_time": "2021-06-17T12:39:32.936640",
     "exception": false,
     "start_time": "2021-06-17T12:39:32.917252",
     "status": "completed"
    },
    "tags": []
   },
   "source": [
    "**Note:** In this notebook we will consider the depth domain $[0,1]$, i.e. $t\\in[0,1]$. Note that, for most architectures in *static* settings (aka we do not deal with dynamic data) any other depth domain does not actually affect the expressiveness of Neural ODEs, since it can be seen as a rescaled/shifted version of $[0,1]$. Please note that, however, other choices of the depth domain can indeed affect the training phase\n",
    "\n",
    "The depth domain can be accessed and modified through the `t_span` setting of `NeuralODE` instances."
   ]
  },
  {
   "cell_type": "markdown",
   "id": "4ae02f06",
   "metadata": {
    "papermill": {
     "duration": 0.019488,
     "end_time": "2021-06-17T12:39:32.975753",
     "exception": false,
     "start_time": "2021-06-17T12:39:32.956265",
     "status": "completed"
    },
    "tags": []
   },
   "source": [
    "## Vanilla Neural ODE (Depth-Invariant)"
   ]
  },
  {
   "cell_type": "markdown",
   "id": "38eb4074",
   "metadata": {
    "papermill": {
     "duration": 0.019643,
     "end_time": "2021-06-17T12:39:33.014980",
     "exception": false,
     "start_time": "2021-06-17T12:39:32.995337",
     "status": "completed"
    },
    "tags": []
   },
   "source": [
    "$$ \\left\\{\n",
    "    \\begin{aligned}\n",
    "        \\dot{z}(t) &= f(z(t), \\theta)\\\\\n",
    "        z(0) &= x\\\\\n",
    "        \\hat y & = z(1)\n",
    "    \\end{aligned}\n",
    "    \\right. \\quad t\\in[0,1]\n",
    "$$"
   ]
  },
  {
   "cell_type": "markdown",
   "id": "0bf67393",
   "metadata": {
    "papermill": {
     "duration": 0.019468,
     "end_time": "2021-06-17T12:39:33.054014",
     "exception": false,
     "start_time": "2021-06-17T12:39:33.034546",
     "status": "completed"
    },
    "tags": []
   },
   "source": [
    "This model is the same used in [torchdyn quickstart](./00_quickstart.html) tutorial. The vector field is parametrized by a neural network $f$ with *static* parameters $\\theta$ and taking as input only the state $h(s)$."
   ]
  },
  {
   "cell_type": "code",
   "execution_count": 78,
   "id": "089068b4",
   "metadata": {},
   "outputs": [
    {
     "data": {
      "text/plain": [
       "tensor([0.0000, 0.1111, 0.2222, 0.3333, 0.4444, 0.5556, 0.6667, 0.7778, 0.8889,\n",
       "        1.0000])"
      ]
     },
     "execution_count": 78,
     "metadata": {},
     "output_type": "execute_result"
    }
   ],
   "source": [
    "t_span = torch.linspace(0, 1, 10)\n",
    "t_span"
   ]
  },
  {
   "cell_type": "code",
   "execution_count": 79,
   "id": "7691dbce",
   "metadata": {},
   "outputs": [
    {
     "name": "stdout",
     "output_type": "stream",
     "text": [
      "dim 9\n"
     ]
    }
   ],
   "source": [
    "dim = X_train.shape[1]\n",
    "print('dim', dim)"
   ]
  },
  {
   "cell_type": "code",
   "execution_count": 80,
   "id": "92cd9bb0",
   "metadata": {
    "papermill": {
     "duration": 0.03442,
     "end_time": "2021-06-17T12:39:33.108134",
     "exception": false,
     "start_time": "2021-06-17T12:39:33.073714",
     "status": "completed"
    },
    "tags": []
   },
   "outputs": [
    {
     "name": "stdout",
     "output_type": "stream",
     "text": [
      "Your vector field callable (nn.Module) should have both time `t` and state `x` as arguments, we've wrapped it for you.\n"
     ]
    }
   ],
   "source": [
    "# vector field parametrized by a NN\n",
    "f = nn.Sequential(\n",
    "        nn.Linear(dim, 64),\n",
    "        nn.Tanh(), \n",
    "        nn.Linear(64, dim))\n",
    "\n",
    "# Neural ODE\n",
    "# `interpolator` here refers to the scheme used together with `solver` to ensure estimates of the solution at all points in `t_span` are returned. \n",
    "# During solution of the adjoint, cubic interpolation is used regardless of `interpolator`.\n",
    "model = NeuralODE(f, sensitivity='adjoint', solver='tsit5', interpolator=None, atol=1e-3, rtol=1e-3).to(device)"
   ]
  },
  {
   "cell_type": "code",
   "execution_count": 82,
   "id": "8b4daae4",
   "metadata": {
    "papermill": {
     "duration": 16.239834,
     "end_time": "2021-06-17T12:39:49.372314",
     "exception": false,
     "start_time": "2021-06-17T12:39:33.132480",
     "status": "completed"
    },
    "scrolled": true,
    "tags": []
   },
   "outputs": [
    {
     "name": "stderr",
     "output_type": "stream",
     "text": [
      "GPU available: True (cuda), used: True\n",
      "TPU available: False, using: 0 TPU cores\n",
      "IPU available: False, using: 0 IPUs\n",
      "HPU available: False, using: 0 HPUs\n",
      "LOCAL_RANK: 0 - CUDA_VISIBLE_DEVICES: [0]\n",
      "\n",
      "  | Name  | Type      | Params\n",
      "------------------------------------\n",
      "0 | model | NeuralODE | 1.2 K \n",
      "------------------------------------\n",
      "1.2 K     Trainable params\n",
      "0         Non-trainable params\n",
      "1.2 K     Total params\n",
      "0.005     Total estimated model params size (MB)\n"
     ]
    },
    {
     "data": {
      "application/vnd.jupyter.widget-view+json": {
       "model_id": "09efcef5f7884ab5a83bada0f87c280a",
       "version_major": 2,
       "version_minor": 0
      },
      "text/plain": [
       "Training: 0it [00:00, ?it/s]"
      ]
     },
     "metadata": {},
     "output_type": "display_data"
    },
    {
     "name": "stderr",
     "output_type": "stream",
     "text": [
      "IOPub message rate exceeded.\n",
      "The notebook server will temporarily stop sending output\n",
      "to the client in order to avoid crashing it.\n",
      "To change this limit, set the config variable\n",
      "`--NotebookApp.iopub_msg_rate_limit`.\n",
      "\n",
      "Current values:\n",
      "NotebookApp.iopub_msg_rate_limit=1000.0 (msgs/sec)\n",
      "NotebookApp.rate_limit_window=3.0 (secs)\n",
      "\n",
      "`Trainer.fit` stopped: `max_epochs=2500` reached.\n"
     ]
    }
   ],
   "source": [
    "# train the Neural ODE\n",
    "learn = Learner(t_span, model)\n",
    "if dry_run: trainer = pl.Trainer(min_epochs=1, max_epochs=1)\n",
    "else: trainer = pl.Trainer(min_epochs=200, max_epochs=2500, accelerator='gpu', devices=1)\n",
    "# else: trainer = pl.Trainer(min_epochs=200, max_epochs=250)\n",
    "trainer.fit(learn)"
   ]
  },
  {
   "cell_type": "markdown",
   "id": "2b277ce3",
   "metadata": {
    "papermill": {
     "duration": 0.020305,
     "end_time": "2021-06-17T12:39:49.413997",
     "exception": false,
     "start_time": "2021-06-17T12:39:49.393692",
     "status": "completed"
    },
    "tags": []
   },
   "source": [
    "**Plots**"
   ]
  },
  {
   "cell_type": "code",
   "execution_count": 99,
   "id": "b2727e12",
   "metadata": {},
   "outputs": [],
   "source": [
    "X_test, y_test =  prepareXY(test_ids[10])"
   ]
  },
  {
   "cell_type": "code",
   "execution_count": null,
   "id": "81300ff0",
   "metadata": {},
   "outputs": [],
   "source": []
  },
  {
   "cell_type": "code",
   "execution_count": 100,
   "id": "5b456b98",
   "metadata": {},
   "outputs": [],
   "source": [
    "X_test = torch.tensor(X_test).float().cpu()\n",
    "y_test = torch.tensor(y_test).float().cpu()\n",
    "\n",
    "t_eval, trajectory = model(X_test, t_span)\n",
    "trajectory = trajectory.detach()\n",
    "t_eval = t_eval.detach()\n",
    "y_pred = trajectory[-1, :, 0]"
   ]
  },
  {
   "cell_type": "code",
   "execution_count": 101,
   "id": "e5025a15",
   "metadata": {},
   "outputs": [
    {
     "data": {
      "text/plain": [
       "<matplotlib.collections.PathCollection at 0x7fb71d15a410>"
      ]
     },
     "execution_count": 101,
     "metadata": {},
     "output_type": "execute_result"
    },
    {
     "data": {
      "image/png": "[encoded data removed]",
      "text/plain": [
       "<Figure size 576x216 with 1 Axes>"
      ]
     },
     "metadata": {
      "needs_background": "light"
     },
     "output_type": "display_data"
    }
   ],
   "source": [
    "# epochs=2500\n",
    "# f = nn.Sequential(\n",
    "#         nn.Linear(dim, 64),\n",
    "#         nn.Tanh(), \n",
    "#         nn.Linear(64, dim))\n",
    "\n",
    "fig = plt.figure(figsize=(8,3))\n",
    "ax = fig.add_subplot(111)\n",
    "ax.scatter(y_test, y_pred, color='orange',alpha=0.5)"
   ]
  },
  {
   "cell_type": "code",
   "execution_count": 102,
   "id": "63dceb88",
   "metadata": {},
   "outputs": [
    {
     "name": "stdout",
     "output_type": "stream",
     "text": [
      "8553.8388671875\n"
     ]
    }
   ],
   "source": [
    "loss = nn.MSELoss(reduction='none')\n",
    "loss_result = torch.mean(loss(y_test, y_pred),dim=0)\n",
    "print(float(loss_result))"
   ]
  },
  {
   "cell_type": "code",
   "execution_count": 103,
   "id": "96fa46d1",
   "metadata": {},
   "outputs": [
    {
     "data": {
      "text/plain": [
       "[<matplotlib.lines.Line2D at 0x7fb712993050>]"
      ]
     },
     "execution_count": 103,
     "metadata": {},
     "output_type": "execute_result"
    },
    {
     "data": {
      "image/png": "[encoded data removed]",
      "text/plain": [
       "<Figure size 576x216 with 1 Axes>"
      ]
     },
     "metadata": {
      "needs_background": "light"
     },
     "output_type": "display_data"
    }
   ],
   "source": [
    "fig = plt.figure(figsize=(8,3))\n",
    "ax = fig.add_subplot(111)\n",
    "ax.plot(X_test[:,0], y_pred, color='blue', alpha=.9)\n",
    "ax.plot(X_test[:,0], y_test, color='orange', alpha=.9)"
   ]
  },
  {
   "cell_type": "code",
   "execution_count": null,
   "id": "ada400a1",
   "metadata": {},
   "outputs": [],
   "source": []
  }
 ],
 "metadata": {
  "kernelspec": {
   "display_name": "Python 3 (ipykernel)",
   "language": "python",
   "name": "python3"
  },
  "language_info": {
   "codemirror_mode": {
    "name": "ipython",
    "version": 3
   },
   "file_extension": ".py",
   "mimetype": "text/x-python",
   "name": "python",
   "nbconvert_exporter": "python",
   "pygments_lexer": "ipython3",
   "version": "3.7.12"
  },
  "latex_envs": {
   "LaTeX_envs_menu_present": true,
   "autoclose": false,
   "autocomplete": true,
   "bibliofile": "biblio.bib",
   "cite_by": "apalike",
   "current_citInitial": 1,
   "eqLabelWithNumbers": true,
   "eqNumInitial": 1,
   "hotkeys": {
    "equation": "Ctrl-E",
    "itemize": "Ctrl-I"
   },
   "labels_anchors": false,
   "latex_user_defs": false,
   "report_style_numbering": false,
   "user_envs_cfg": false
  },
  "papermill": {
   "default_parameters": {},
   "duration": 29.046384,
   "end_time": "2021-06-17T12:39:52.317291",
   "environment_variables": {},
   "exception": true,
   "input_path": "tutorials/01_neural_ode_cookbook.ipynb",
   "output_path": "tutorials/01_neural_ode_cookbook.ipynb",
   "parameters": {},
   "start_time": "2021-06-17T12:39:23.270907",
   "version": "2.3.3"
  },
  "varInspector": {
   "cols": {
    "lenName": 16,
    "lenType": 16,
    "lenVar": 40
   },
   "kernels_config": {
    "python": {
     "delete_cmd_postfix": "",
     "delete_cmd_prefix": "del ",
     "library": "var_list.py",
     "varRefreshCmd": "print(var_dic_list())"
    },
    "r": {
     "delete_cmd_postfix": ") ",
     "delete_cmd_prefix": "rm(",
     "library": "var_list.r",
     "varRefreshCmd": "cat(var_dic_list()) "
    }
   },
   "types_to_exclude": [
    "module",
    "function",
    "builtin_function_or_method",
    "instance",
    "_Feature"
   ],
   "window_display": false
  },
  "widgets": {
   "application/vnd.jupyter.widget-state+json": {
    "state": {
     "149b167de0d34bb19d2b42a462867a37": {
      "model_module": "@jupyter-widgets/controls",
      "model_module_version": "1.5.0",
      "model_name": "HTMLModel",
      "state": {
       "_dom_classes": [],
       "_model_module": "@jupyter-widgets/controls",
       "_model_module_version": "1.5.0",
       "_model_name": "HTMLModel",
       "_view_count": null,
       "_view_module": "@jupyter-widgets/controls",
       "_view_module_version": "1.5.0",
       "_view_name": "HTMLView",
       "description": "",
       "description_tooltip": null,
       "layout": "IPY_MODEL_7edc403926834204a535f29f32ab11ea",
       "placeholder": "​",
       "style": "IPY_MODEL_3d19990298ff4aab902b6d79c3395c75",
       "value": " 1/1 [00:00&lt;00:00, 12.13it/s, loss=0.000996, v_num=151]"
      }
     },
     "3d19990298ff4aab902b6d79c3395c75": {
      "model_module": "@jupyter-widgets/controls",
      "model_module_version": "1.5.0",
      "model_name": "DescriptionStyleModel",
      "state": {
       "_model_module": "@jupyter-widgets/controls",
       "_model_module_version": "1.5.0",
       "_model_name": "DescriptionStyleModel",
       "_view_count": null,
       "_view_module": "@jupyter-widgets/base",
       "_view_module_version": "1.2.0",
       "_view_name": "StyleView",
       "description_width": ""
      }
     },
     "42e88b6a8f184fe5aea27524a796ba5f": {
      "model_module": "@jupyter-widgets/base",
      "model_module_version": "1.2.0",
      "model_name": "LayoutModel",
      "state": {
       "_model_module": "@jupyter-widgets/base",
       "_model_module_version": "1.2.0",
       "_model_name": "LayoutModel",
       "_view_count": null,
       "_view_module": "@jupyter-widgets/base",
       "_view_module_version": "1.2.0",
       "_view_name": "LayoutView",
       "align_content": null,
       "align_items": null,
       "align_self": null,
       "border": null,
       "bottom": null,
       "display": null,
       "flex": null,
       "flex_flow": null,
       "grid_area": null,
       "grid_auto_columns": null,
       "grid_auto_flow": null,
       "grid_auto_rows": null,
       "grid_column": null,
       "grid_gap": null,
       "grid_row": null,
       "grid_template_areas": null,
       "grid_template_columns": null,
       "grid_template_rows": null,
       "height": null,
       "justify_content": null,
       "justify_items": null,
       "left": null,
       "margin": null,
       "max_height": null,
       "max_width": null,
       "min_height": null,
       "min_width": null,
       "object_fit": null,
       "object_position": null,
       "order": null,
       "overflow": null,
       "overflow_x": null,
       "overflow_y": null,
       "padding": null,
       "right": null,
       "top": null,
       "visibility": null,
       "width": null
      }
     },
     "7edc403926834204a535f29f32ab11ea": {
      "model_module": "@jupyter-widgets/base",
      "model_module_version": "1.2.0",
      "model_name": "LayoutModel",
      "state": {
       "_model_module": "@jupyter-widgets/base",
       "_model_module_version": "1.2.0",
       "_model_name": "LayoutModel",
       "_view_count": null,
       "_view_module": "@jupyter-widgets/base",
       "_view_module_version": "1.2.0",
       "_view_name": "LayoutView",
       "align_content": null,
       "align_items": null,
       "align_self": null,
       "border": null,
       "bottom": null,
       "display": null,
       "flex": null,
       "flex_flow": null,
       "grid_area": null,
       "grid_auto_columns": null,
       "grid_auto_flow": null,
       "grid_auto_rows": null,
       "grid_column": null,
       "grid_gap": null,
       "grid_row": null,
       "grid_template_areas": null,
       "grid_template_columns": null,
       "grid_template_rows": null,
       "height": null,
       "justify_content": null,
       "justify_items": null,
       "left": null,
       "margin": null,
       "max_height": null,
       "max_width": null,
       "min_height": null,
       "min_width": null,
       "object_fit": null,
       "object_position": null,
       "order": null,
       "overflow": null,
       "overflow_x": null,
       "overflow_y": null,
       "padding": null,
       "right": null,
       "top": null,
       "visibility": null,
       "width": null
      }
     },
     "9e6d916473ed4e1098d0ef84e221ee26": {
      "model_module": "@jupyter-widgets/controls",
      "model_module_version": "1.5.0",
      "model_name": "DescriptionStyleModel",
      "state": {
       "_model_module": "@jupyter-widgets/controls",
       "_model_module_version": "1.5.0",
       "_model_name": "DescriptionStyleModel",
       "_view_count": null,
       "_view_module": "@jupyter-widgets/base",
       "_view_module_version": "1.2.0",
       "_view_name": "StyleView",
       "description_width": ""
      }
     },
     "a6fc6d4e706647bba5caa2d4b99b5f45": {
      "model_module": "@jupyter-widgets/controls",
      "model_module_version": "1.5.0",
      "model_name": "FloatProgressModel",
      "state": {
       "_dom_classes": [],
       "_model_module": "@jupyter-widgets/controls",
       "_model_module_version": "1.5.0",
       "_model_name": "FloatProgressModel",
       "_view_count": null,
       "_view_module": "@jupyter-widgets/controls",
       "_view_module_version": "1.5.0",
       "_view_name": "ProgressView",
       "bar_style": "success",
       "description": "",
       "description_tooltip": null,
       "layout": "IPY_MODEL_ae659a85c83c42fe9613bef07097ec09",
       "max": 1,
       "min": 0,
       "orientation": "horizontal",
       "style": "IPY_MODEL_cd126243574a4a27b9b2ea0f3b33afbf",
       "value": 1
      }
     },
     "ae659a85c83c42fe9613bef07097ec09": {
      "model_module": "@jupyter-widgets/base",
      "model_module_version": "1.2.0",
      "model_name": "LayoutModel",
      "state": {
       "_model_module": "@jupyter-widgets/base",
       "_model_module_version": "1.2.0",
       "_model_name": "LayoutModel",
       "_view_count": null,
       "_view_module": "@jupyter-widgets/base",
       "_view_module_version": "1.2.0",
       "_view_name": "LayoutView",
       "align_content": null,
       "align_items": null,
       "align_self": null,
       "border": null,
       "bottom": null,
       "display": null,
       "flex": "2",
       "flex_flow": null,
       "grid_area": null,
       "grid_auto_columns": null,
       "grid_auto_flow": null,
       "grid_auto_rows": null,
       "grid_column": null,
       "grid_gap": null,
       "grid_row": null,
       "grid_template_areas": null,
       "grid_template_columns": null,
       "grid_template_rows": null,
       "height": null,
       "justify_content": null,
       "justify_items": null,
       "left": null,
       "margin": null,
       "max_height": null,
       "max_width": null,
       "min_height": null,
       "min_width": null,
       "object_fit": null,
       "object_position": null,
       "order": null,
       "overflow": null,
       "overflow_x": null,
       "overflow_y": null,
       "padding": null,
       "right": null,
       "top": null,
       "visibility": null,
       "width": null
      }
     },
     "cd126243574a4a27b9b2ea0f3b33afbf": {
      "model_module": "@jupyter-widgets/controls",
      "model_module_version": "1.5.0",
      "model_name": "ProgressStyleModel",
      "state": {
       "_model_module": "@jupyter-widgets/controls",
       "_model_module_version": "1.5.0",
       "_model_name": "ProgressStyleModel",
       "_view_count": null,
       "_view_module": "@jupyter-widgets/base",
       "_view_module_version": "1.2.0",
       "_view_name": "StyleView",
       "bar_color": null,
       "description_width": ""
      }
     },
     "e978be3a6a0d4cb4af34adfb7fe2bafb": {
      "model_module": "@jupyter-widgets/base",
      "model_module_version": "1.2.0",
      "model_name": "LayoutModel",
      "state": {
       "_model_module": "@jupyter-widgets/base",
       "_model_module_version": "1.2.0",
       "_model_name": "LayoutModel",
       "_view_count": null,
       "_view_module": "@jupyter-widgets/base",
       "_view_module_version": "1.2.0",
       "_view_name": "LayoutView",
       "align_content": null,
       "align_items": null,
       "align_self": null,
       "border": null,
       "bottom": null,
       "display": "inline-flex",
       "flex": null,
       "flex_flow": "row wrap",
       "grid_area": null,
       "grid_auto_columns": null,
       "grid_auto_flow": null,
       "grid_auto_rows": null,
       "grid_column": null,
       "grid_gap": null,
       "grid_row": null,
       "grid_template_areas": null,
       "grid_template_columns": null,
       "grid_template_rows": null,
       "height": null,
       "justify_content": null,
       "justify_items": null,
       "left": null,
       "margin": null,
       "max_height": null,
       "max_width": null,
       "min_height": null,
       "min_width": null,
       "object_fit": null,
       "object_position": null,
       "order": null,
       "overflow": null,
       "overflow_x": null,
       "overflow_y": null,
       "padding": null,
       "right": null,
       "top": null,
       "visibility": null,
       "width": "100%"
      }
     },
     "f3d08adc32d0462b978dec2b6ba1daa1": {
      "model_module": "@jupyter-widgets/controls",
      "model_module_version": "1.5.0",
      "model_name": "HBoxModel",
      "state": {
       "_dom_classes": [],
       "_model_module": "@jupyter-widgets/controls",
       "_model_module_version": "1.5.0",
       "_model_name": "HBoxModel",
       "_view_count": null,
       "_view_module": "@jupyter-widgets/controls",
       "_view_module_version": "1.5.0",
       "_view_name": "HBoxView",
       "box_style": "",
       "children": [
        "IPY_MODEL_f84e1e5544c845f7bef66f7cbd3cf841",
        "IPY_MODEL_a6fc6d4e706647bba5caa2d4b99b5f45",
        "IPY_MODEL_149b167de0d34bb19d2b42a462867a37"
       ],
       "layout": "IPY_MODEL_e978be3a6a0d4cb4af34adfb7fe2bafb"
      }
     },
     "f84e1e5544c845f7bef66f7cbd3cf841": {
      "model_module": "@jupyter-widgets/controls",
      "model_module_version": "1.5.0",
      "model_name": "HTMLModel",
      "state": {
       "_dom_classes": [],
       "_model_module": "@jupyter-widgets/controls",
       "_model_module_version": "1.5.0",
       "_model_name": "HTMLModel",
       "_view_count": null,
       "_view_module": "@jupyter-widgets/controls",
       "_view_module_version": "1.5.0",
       "_view_name": "HTMLView",
       "description": "",
       "description_tooltip": null,
       "layout": "IPY_MODEL_42e88b6a8f184fe5aea27524a796ba5f",
       "placeholder": "​",
       "style": "IPY_MODEL_9e6d916473ed4e1098d0ef84e221ee26",
       "value": "Epoch 249: 100%"
      }
     }
    },
    "version_major": 2,
    "version_minor": 0
   }
  }
 },
 "nbformat": 4,
 "nbformat_minor": 5
}
